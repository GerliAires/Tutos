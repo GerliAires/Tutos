{
 "cells": [
  {
   "cell_type": "markdown",
   "metadata": {},
   "source": [
    "# Funciones que suelen ser utiles para github"
   ]
  },
  {
   "cell_type": "markdown",
   "metadata": {},
   "source": [
    "# Indice\n",
    "\n",
    "- [Borrar Archivo](#Borrar-Archivo)\n",
    "- [Borrar Carpeta](#Borrar-Carpeta)\n"
   ]
  },
  {
   "cell_type": "markdown",
   "metadata": {},
   "source": []
  },
  {
   "cell_type": "markdown",
   "metadata": {},
   "source": []
  },
  {
   "cell_type": "markdown",
   "metadata": {},
   "source": []
  },
  {
   "cell_type": "markdown",
   "metadata": {},
   "source": []
  },
  {
   "cell_type": "markdown",
   "metadata": {},
   "source": []
  },
  {
   "cell_type": "markdown",
   "metadata": {},
   "source": []
  },
  {
   "cell_type": "markdown",
   "metadata": {},
   "source": []
  },
  {
   "cell_type": "markdown",
   "metadata": {},
   "source": [
    "<a id=\"Borrar-Archivo\"></a>\n",
    "\n",
    "## Borrar Archivo"
   ]
  },
  {
   "cell_type": "markdown",
   "metadata": {},
   "source": [
    "Cuando se elimina un archivo ya sea manualmente o por consola y se trabaja con un entorno de github este cambio debe ser notificado.\n",
    "\n",
    "        "
   ]
  },
  {
   "cell_type": "markdown",
   "metadata": {},
   "source": [
    "<a id=\"Borrar-Carpeta\"></a>\n",
    "\n",
    "## Borrar Carpeta"
   ]
  },
  {
   "cell_type": "markdown",
   "metadata": {},
   "source": [
    "Para borrar una carpeta entera que contenga archivos lo hacemos de la siguiente manera:\n",
    "\n",
    "Si la borramos deberia saltar en rojo al ingresar:\n",
    "\n",
    "        # git status\n",
    "\n",
    "El comando para borrarla es:\n",
    "\n",
    "        # git rm -r nombre_de_la_carpeta\n",
    "\n",
    "Realizamos un commit de lo sucedido por ejemplo:\n",
    "\n",
    "        # git commit -m \"Se borro la carpeta por x razon\"\n",
    "\n",
    "Pusheamos para que los cambies queden en nuestro repositorio online\n",
    "\n",
    "        # git push origin main (o la rama que estes usando)\n"
   ]
  }
 ],
 "metadata": {
  "kernelspec": {
   "display_name": "pepa_alemana",
   "language": "python",
   "name": "python3"
  },
  "language_info": {
   "name": "python",
   "version": "3.11.5"
  }
 },
 "nbformat": 4,
 "nbformat_minor": 2
}
